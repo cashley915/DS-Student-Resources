{
 "cells": [
  {
   "cell_type": "code",
   "execution_count": 3,
   "id": "b2535b23-12bd-4d15-9c1c-019d77b878d7",
   "metadata": {},
   "outputs": [],
   "source": [
    "import pandas as pd"
   ]
  },
  {
   "cell_type": "code",
   "execution_count": null,
   "id": "cc225c7a-48ca-4e38-962b-d10108c08243",
   "metadata": {},
   "outputs": [],
   "source": []
  },
  {
   "cell_type": "code",
   "execution_count": null,
   "id": "21aa3366-b021-49a1-a24e-a129016949e7",
   "metadata": {},
   "outputs": [],
   "source": [
    "### Read in CSV data"
   ]
  },
  {
   "cell_type": "code",
   "execution_count": 15,
   "id": "42d52ce3-7204-417a-bfa4-8228170bc58c",
   "metadata": {},
   "outputs": [],
   "source": [
    "bison = pd.read_csv('/Users/clarkeashleigh/Downloads/BisonTracking.csv')"
   ]
  },
  {
   "cell_type": "code",
   "execution_count": null,
   "id": "7bc48e77-788d-4f31-b6dd-f31397f7e417",
   "metadata": {},
   "outputs": [],
   "source": []
  },
  {
   "cell_type": "code",
   "execution_count": null,
   "id": "178cdffa-51c9-47e0-bf68-fd375f9b12fd",
   "metadata": {},
   "outputs": [],
   "source": [
    "### First 7 rows in data"
   ]
  },
  {
   "cell_type": "code",
   "execution_count": 5,
   "id": "a8c7ffbc-3f6b-44b5-853b-7f4173c0bd4b",
   "metadata": {},
   "outputs": [
    {
     "data": {
      "text/html": [
       "<div>\n",
       "<style scoped>\n",
       "    .dataframe tbody tr th:only-of-type {\n",
       "        vertical-align: middle;\n",
       "    }\n",
       "\n",
       "    .dataframe tbody tr th {\n",
       "        vertical-align: top;\n",
       "    }\n",
       "\n",
       "    .dataframe thead th {\n",
       "        text-align: right;\n",
       "    }\n",
       "</style>\n",
       "<table border=\"1\" class=\"dataframe\">\n",
       "  <thead>\n",
       "    <tr style=\"text-align: right;\">\n",
       "      <th></th>\n",
       "      <th>Collection/Population Locality</th>\n",
       "      <th>SpecimenNumber</th>\n",
       "      <th>Genus</th>\n",
       "      <th>Species</th>\n",
       "      <th>Length</th>\n",
       "    </tr>\n",
       "  </thead>\n",
       "  <tbody>\n",
       "    <tr>\n",
       "      <th>0</th>\n",
       "      <td>12 Mile Creek</td>\n",
       "      <td>112916</td>\n",
       "      <td>Bison</td>\n",
       "      <td>antiquus</td>\n",
       "      <td>8</td>\n",
       "    </tr>\n",
       "    <tr>\n",
       "      <th>1</th>\n",
       "      <td>12 Mile Creek</td>\n",
       "      <td>112917</td>\n",
       "      <td>Bison</td>\n",
       "      <td>antiquus</td>\n",
       "      <td>7</td>\n",
       "    </tr>\n",
       "    <tr>\n",
       "      <th>2</th>\n",
       "      <td>12 Mile Creek</td>\n",
       "      <td>112918</td>\n",
       "      <td>Bison</td>\n",
       "      <td>antiquus</td>\n",
       "      <td>7</td>\n",
       "    </tr>\n",
       "    <tr>\n",
       "      <th>3</th>\n",
       "      <td>12 Mile Creek</td>\n",
       "      <td>112919</td>\n",
       "      <td>Bison</td>\n",
       "      <td>antiquus</td>\n",
       "      <td>8</td>\n",
       "    </tr>\n",
       "    <tr>\n",
       "      <th>4</th>\n",
       "      <td>12 Mile Creek</td>\n",
       "      <td>112921</td>\n",
       "      <td>Bison</td>\n",
       "      <td>antiquus</td>\n",
       "      <td>9</td>\n",
       "    </tr>\n",
       "    <tr>\n",
       "      <th>5</th>\n",
       "      <td>12 Mile Creek</td>\n",
       "      <td>112925</td>\n",
       "      <td>Bison</td>\n",
       "      <td>antiquus</td>\n",
       "      <td>9</td>\n",
       "    </tr>\n",
       "    <tr>\n",
       "      <th>6</th>\n",
       "      <td>Agate Basin-Agate Basin</td>\n",
       "      <td>458</td>\n",
       "      <td>Bison</td>\n",
       "      <td>antiquus</td>\n",
       "      <td>7</td>\n",
       "    </tr>\n",
       "  </tbody>\n",
       "</table>\n",
       "</div>"
      ],
      "text/plain": [
       "  Collection/Population Locality SpecimenNumber  Genus   Species  Length\n",
       "0                  12 Mile Creek         112916  Bison  antiquus       8\n",
       "1                  12 Mile Creek         112917  Bison  antiquus       7\n",
       "2                  12 Mile Creek         112918  Bison  antiquus       7\n",
       "3                  12 Mile Creek         112919  Bison  antiquus       8\n",
       "4                  12 Mile Creek         112921  Bison  antiquus       9\n",
       "5                  12 Mile Creek         112925  Bison  antiquus       9\n",
       "6        Agate Basin-Agate Basin            458  Bison  antiquus       7"
      ]
     },
     "execution_count": 5,
     "metadata": {},
     "output_type": "execute_result"
    }
   ],
   "source": [
    "bison.head(7)"
   ]
  },
  {
   "cell_type": "code",
   "execution_count": null,
   "id": "a33106d3-e313-446a-a826-0ecdbf7a8f99",
   "metadata": {},
   "outputs": [],
   "source": []
  },
  {
   "cell_type": "code",
   "execution_count": null,
   "id": "708b33b5-875c-411b-89f5-bc88ff628848",
   "metadata": {},
   "outputs": [],
   "source": [
    "### Last 10 rows in data"
   ]
  },
  {
   "cell_type": "code",
   "execution_count": 9,
   "id": "b1983af6-4e99-4bdc-b0bd-613388426570",
   "metadata": {
    "tags": []
   },
   "outputs": [
    {
     "data": {
      "text/html": [
       "<div>\n",
       "<style scoped>\n",
       "    .dataframe tbody tr th:only-of-type {\n",
       "        vertical-align: middle;\n",
       "    }\n",
       "\n",
       "    .dataframe tbody tr th {\n",
       "        vertical-align: top;\n",
       "    }\n",
       "\n",
       "    .dataframe thead th {\n",
       "        text-align: right;\n",
       "    }\n",
       "</style>\n",
       "<table border=\"1\" class=\"dataframe\">\n",
       "  <thead>\n",
       "    <tr style=\"text-align: right;\">\n",
       "      <th></th>\n",
       "      <th>Collection/Population Locality</th>\n",
       "      <th>SpecimenNumber</th>\n",
       "      <th>Genus</th>\n",
       "      <th>Species</th>\n",
       "      <th>Length</th>\n",
       "    </tr>\n",
       "  </thead>\n",
       "  <tbody>\n",
       "    <tr>\n",
       "      <th>1097</th>\n",
       "      <td>Simonsen</td>\n",
       "      <td>SEC. 8, 30\", E2, #bb</td>\n",
       "      <td>Bison</td>\n",
       "      <td>antiquus</td>\n",
       "      <td>8</td>\n",
       "    </tr>\n",
       "    <tr>\n",
       "      <th>1098</th>\n",
       "      <td>Simonsen</td>\n",
       "      <td>SW15 #3</td>\n",
       "      <td>Bison</td>\n",
       "      <td>antiquus</td>\n",
       "      <td>8</td>\n",
       "    </tr>\n",
       "    <tr>\n",
       "      <th>1099</th>\n",
       "      <td>Simonsen</td>\n",
       "      <td>SW15 #3</td>\n",
       "      <td>Bison</td>\n",
       "      <td>antiquus</td>\n",
       "      <td>7</td>\n",
       "    </tr>\n",
       "    <tr>\n",
       "      <th>1100</th>\n",
       "      <td>Simonsen</td>\n",
       "      <td>SW37 #9</td>\n",
       "      <td>Bison</td>\n",
       "      <td>antiquus</td>\n",
       "      <td>9</td>\n",
       "    </tr>\n",
       "    <tr>\n",
       "      <th>1101</th>\n",
       "      <td>Simonsen</td>\n",
       "      <td>SW37 #9</td>\n",
       "      <td>Bison</td>\n",
       "      <td>antiquus</td>\n",
       "      <td>8</td>\n",
       "    </tr>\n",
       "    <tr>\n",
       "      <th>1102</th>\n",
       "      <td>Terapa</td>\n",
       "      <td>TERA 403</td>\n",
       "      <td>Bison</td>\n",
       "      <td>antiquus</td>\n",
       "      <td>7</td>\n",
       "    </tr>\n",
       "    <tr>\n",
       "      <th>1103</th>\n",
       "      <td>Terapa</td>\n",
       "      <td>TERA 404</td>\n",
       "      <td>Bison</td>\n",
       "      <td>antiquus</td>\n",
       "      <td>8</td>\n",
       "    </tr>\n",
       "    <tr>\n",
       "      <th>1104</th>\n",
       "      <td>Terapa</td>\n",
       "      <td>TERA 426</td>\n",
       "      <td>Bison</td>\n",
       "      <td>antiquus</td>\n",
       "      <td>9</td>\n",
       "    </tr>\n",
       "    <tr>\n",
       "      <th>1105</th>\n",
       "      <td>WICA</td>\n",
       "      <td>422F7A5179</td>\n",
       "      <td>Bison</td>\n",
       "      <td>bison</td>\n",
       "      <td>7</td>\n",
       "    </tr>\n",
       "    <tr>\n",
       "      <th>1106</th>\n",
       "      <td>WICA</td>\n",
       "      <td>AVID*074*597*636</td>\n",
       "      <td>Bison</td>\n",
       "      <td>bison</td>\n",
       "      <td>7</td>\n",
       "    </tr>\n",
       "  </tbody>\n",
       "</table>\n",
       "</div>"
      ],
      "text/plain": [
       "     Collection/Population Locality        SpecimenNumber  Genus   Species  \\\n",
       "1097                       Simonsen  SEC. 8, 30\", E2, #bb  Bison  antiquus   \n",
       "1098                       Simonsen               SW15 #3  Bison  antiquus   \n",
       "1099                       Simonsen               SW15 #3  Bison  antiquus   \n",
       "1100                       Simonsen               SW37 #9  Bison  antiquus   \n",
       "1101                       Simonsen               SW37 #9  Bison  antiquus   \n",
       "1102                         Terapa              TERA 403  Bison  antiquus   \n",
       "1103                         Terapa              TERA 404  Bison  antiquus   \n",
       "1104                         Terapa              TERA 426  Bison  antiquus   \n",
       "1105                           WICA            422F7A5179  Bison     bison   \n",
       "1106                           WICA      AVID*074*597*636  Bison     bison   \n",
       "\n",
       "      Length  \n",
       "1097       8  \n",
       "1098       8  \n",
       "1099       7  \n",
       "1100       9  \n",
       "1101       8  \n",
       "1102       7  \n",
       "1103       8  \n",
       "1104       9  \n",
       "1105       7  \n",
       "1106       7  "
      ]
     },
     "execution_count": 9,
     "metadata": {},
     "output_type": "execute_result"
    }
   ],
   "source": [
    "bison.tail(10)"
   ]
  },
  {
   "cell_type": "code",
   "execution_count": null,
   "id": "dc9725c3-3ff4-46d1-812f-ca00622e4469",
   "metadata": {},
   "outputs": [],
   "source": []
  },
  {
   "cell_type": "code",
   "execution_count": null,
   "id": "4bb649cc-e17c-49c5-8b3b-b2b7371c5384",
   "metadata": {},
   "outputs": [],
   "source": [
    "### Number of Rows"
   ]
  },
  {
   "cell_type": "code",
   "execution_count": 12,
   "id": "3fb25126-cb3d-4e04-9e23-3589fb316b50",
   "metadata": {},
   "outputs": [
    {
     "data": {
      "text/plain": [
       "1107"
      ]
     },
     "execution_count": 12,
     "metadata": {},
     "output_type": "execute_result"
    }
   ],
   "source": [
    "len(bison)"
   ]
  },
  {
   "cell_type": "code",
   "execution_count": null,
   "id": "6e03c7b3-3d2c-4003-87f6-497622e849c8",
   "metadata": {},
   "outputs": [],
   "source": []
  },
  {
   "cell_type": "code",
   "execution_count": null,
   "id": "7f9b7074-ad9e-49ec-b0ac-b5ff94d7d97a",
   "metadata": {},
   "outputs": [],
   "source": [
    "### Number of Columns"
   ]
  },
  {
   "cell_type": "code",
   "execution_count": 14,
   "id": "883ad220-db03-4c69-a00b-44f2d2fc562d",
   "metadata": {},
   "outputs": [
    {
     "data": {
      "text/plain": [
       "5"
      ]
     },
     "execution_count": 14,
     "metadata": {},
     "output_type": "execute_result"
    }
   ],
   "source": [
    "len(bison.columns)"
   ]
  },
  {
   "cell_type": "code",
   "execution_count": null,
   "id": "7dd7fb6e-d27e-4021-b213-4e61db9ffe26",
   "metadata": {},
   "outputs": [],
   "source": [
    "---"
   ]
  },
  {
   "cell_type": "code",
   "execution_count": null,
   "id": "40eec2a7-4a8b-4c03-b0e0-fbcc4c79ceef",
   "metadata": {},
   "outputs": [],
   "source": [
    "### How many bison in Antiquus species?"
   ]
  },
  {
   "cell_type": "code",
   "execution_count": 18,
   "id": "420e13ec-03ef-41d8-b556-e87fb76c2d9d",
   "metadata": {},
   "outputs": [
    {
     "data": {
      "text/plain": [
       "antiquus        633\n",
       "bison           435\n",
       "occidentalis     39\n",
       "Name: Species, dtype: int64"
      ]
     },
     "execution_count": 18,
     "metadata": {},
     "output_type": "execute_result"
    }
   ],
   "source": [
    "bison.Species.value_counts()"
   ]
  },
  {
   "cell_type": "code",
   "execution_count": null,
   "id": "541c8791-cd84-4fe9-9e60-13b944700a04",
   "metadata": {},
   "outputs": [],
   "source": [
    "* 633"
   ]
  },
  {
   "cell_type": "code",
   "execution_count": null,
   "id": "a2f77c7f-998e-484a-8af4-4879dbc88e9f",
   "metadata": {},
   "outputs": [],
   "source": []
  },
  {
   "cell_type": "code",
   "execution_count": null,
   "id": "3deca689-15fc-4263-a0ba-f5314a77b058",
   "metadata": {},
   "outputs": [],
   "source": [
    "### Mean and StD of Length "
   ]
  },
  {
   "cell_type": "code",
   "execution_count": 19,
   "id": "b40f71d2-4760-47b2-84e5-e486748032a0",
   "metadata": {},
   "outputs": [
    {
     "data": {
      "text/plain": [
       "count    1107.000000\n",
       "mean        7.981030\n",
       "std         0.808299\n",
       "min         7.000000\n",
       "25%         7.000000\n",
       "50%         8.000000\n",
       "75%         9.000000\n",
       "max         9.000000\n",
       "Name: Length, dtype: float64"
      ]
     },
     "execution_count": 19,
     "metadata": {},
     "output_type": "execute_result"
    }
   ],
   "source": [
    "bison.Length.describe()"
   ]
  },
  {
   "cell_type": "code",
   "execution_count": null,
   "id": "feda5103-a312-45c2-ab61-7cadc43102a0",
   "metadata": {},
   "outputs": [],
   "source": [
    "* mean: 7.981030"
   ]
  },
  {
   "cell_type": "code",
   "execution_count": null,
   "id": "d90640bf-5e4f-40a4-98cb-983695f7f05c",
   "metadata": {},
   "outputs": [],
   "source": [
    "*std: 0.808299"
   ]
  },
  {
   "cell_type": "code",
   "execution_count": null,
   "id": "37858047-93df-49cc-bc1d-84087637876b",
   "metadata": {},
   "outputs": [],
   "source": []
  },
  {
   "cell_type": "code",
   "execution_count": 22,
   "id": "31746822-f958-43e7-8954-63acde3630c5",
   "metadata": {},
   "outputs": [],
   "source": [
    "### Median length of bison"
   ]
  },
  {
   "cell_type": "code",
   "execution_count": 23,
   "id": "2601c87d-e910-4f61-992e-0554963e5b2d",
   "metadata": {},
   "outputs": [
    {
     "data": {
      "text/plain": [
       "8.0"
      ]
     },
     "execution_count": 23,
     "metadata": {},
     "output_type": "execute_result"
    }
   ],
   "source": [
    "bison.Length.median()"
   ]
  },
  {
   "cell_type": "code",
   "execution_count": null,
   "id": "38a6c408-2b47-41a5-aa6d-b4aaa61f5ac3",
   "metadata": {},
   "outputs": [],
   "source": []
  }
 ],
 "metadata": {
  "kernelspec": {
   "display_name": "Python 3 (ipykernel)",
   "language": "python",
   "name": "python3"
  },
  "language_info": {
   "codemirror_mode": {
    "name": "ipython",
    "version": 3
   },
   "file_extension": ".py",
   "mimetype": "text/x-python",
   "name": "python",
   "nbconvert_exporter": "python",
   "pygments_lexer": "ipython3",
   "version": "3.9.10"
  }
 },
 "nbformat": 4,
 "nbformat_minor": 5
}
