{
 "cells": [
  {
   "cell_type": "code",
   "execution_count": 1,
   "id": "b261a393-84fd-4ac0-87d6-ab052ce3cca6",
   "metadata": {},
   "outputs": [],
   "source": [
    "import pandas as pd"
   ]
  },
  {
   "cell_type": "code",
   "execution_count": 2,
   "id": "cecef94e-1a8c-475b-ac5f-8ab6be8a08cd",
   "metadata": {},
   "outputs": [],
   "source": [
    "exam = pd.read_csv ('/Users/clarkeashleigh/Downloads/L3exam.csv')"
   ]
  },
  {
   "cell_type": "code",
   "execution_count": 7,
   "id": "55d75e40-4bf6-426e-bb98-bd4cccb99735",
   "metadata": {},
   "outputs": [
    {
     "data": {
      "text/html": [
       "<div>\n",
       "<style scoped>\n",
       "    .dataframe tbody tr th:only-of-type {\n",
       "        vertical-align: middle;\n",
       "    }\n",
       "\n",
       "    .dataframe tbody tr th {\n",
       "        vertical-align: top;\n",
       "    }\n",
       "\n",
       "    .dataframe thead th {\n",
       "        text-align: right;\n",
       "    }\n",
       "</style>\n",
       "<table border=\"1\" class=\"dataframe\">\n",
       "  <thead>\n",
       "    <tr style=\"text-align: right;\">\n",
       "      <th></th>\n",
       "      <th>267.5</th>\n",
       "    </tr>\n",
       "  </thead>\n",
       "  <tbody>\n",
       "    <tr>\n",
       "      <th>0</th>\n",
       "      <td>256.5</td>\n",
       "    </tr>\n",
       "    <tr>\n",
       "      <th>1</th>\n",
       "      <td>266.7</td>\n",
       "    </tr>\n",
       "    <tr>\n",
       "      <th>2</th>\n",
       "      <td>256.0</td>\n",
       "    </tr>\n",
       "    <tr>\n",
       "      <th>3</th>\n",
       "      <td>268.2</td>\n",
       "    </tr>\n",
       "    <tr>\n",
       "      <th>4</th>\n",
       "      <td>269.1</td>\n",
       "    </tr>\n",
       "    <tr>\n",
       "      <th>5</th>\n",
       "      <td>269.8</td>\n",
       "    </tr>\n",
       "    <tr>\n",
       "      <th>6</th>\n",
       "      <td>266.2</td>\n",
       "    </tr>\n",
       "    <tr>\n",
       "      <th>7</th>\n",
       "      <td>262.0</td>\n",
       "    </tr>\n",
       "    <tr>\n",
       "      <th>8</th>\n",
       "      <td>267.8</td>\n",
       "    </tr>\n",
       "    <tr>\n",
       "      <th>9</th>\n",
       "      <td>271.6</td>\n",
       "    </tr>\n",
       "    <tr>\n",
       "      <th>10</th>\n",
       "      <td>267.5</td>\n",
       "    </tr>\n",
       "    <tr>\n",
       "      <th>11</th>\n",
       "      <td>260.8</td>\n",
       "    </tr>\n",
       "    <tr>\n",
       "      <th>12</th>\n",
       "      <td>259.6</td>\n",
       "    </tr>\n",
       "    <tr>\n",
       "      <th>13</th>\n",
       "      <td>263.4</td>\n",
       "    </tr>\n",
       "  </tbody>\n",
       "</table>\n",
       "</div>"
      ],
      "text/plain": [
       "    267.5\n",
       "0   256.5\n",
       "1   266.7\n",
       "2   256.0\n",
       "3   268.2\n",
       "4   269.1\n",
       "5   269.8\n",
       "6   266.2\n",
       "7   262.0\n",
       "8   267.8\n",
       "9   271.6\n",
       "10  267.5\n",
       "11  260.8\n",
       "12  259.6\n",
       "13  263.4"
      ]
     },
     "execution_count": 7,
     "metadata": {},
     "output_type": "execute_result"
    }
   ],
   "source": [
    "exam.head (15)"
   ]
  },
  {
   "cell_type": "code",
   "execution_count": 9,
   "id": "8cc198a6-a7fa-4d8b-a94f-d6e98c721b3c",
   "metadata": {},
   "outputs": [
    {
     "data": {
      "text/plain": [
       "267.5    256.0\n",
       "dtype: float64"
      ]
     },
     "execution_count": 9,
     "metadata": {},
     "output_type": "execute_result"
    }
   ],
   "source": [
    "exam.min ()"
   ]
  },
  {
   "cell_type": "code",
   "execution_count": 10,
   "id": "36839dca-354a-490b-89eb-6f224cbeebe1",
   "metadata": {},
   "outputs": [
    {
     "data": {
      "text/plain": [
       "267.5    271.6\n",
       "dtype: float64"
      ]
     },
     "execution_count": 10,
     "metadata": {},
     "output_type": "execute_result"
    }
   ],
   "source": [
    "exam.max ()"
   ]
  },
  {
   "cell_type": "code",
   "execution_count": 11,
   "id": "fc5c5a67-34b6-4616-8ffa-ab4e8d8ada88",
   "metadata": {},
   "outputs": [
    {
     "data": {
      "text/plain": [
       "267.5    264.657143\n",
       "dtype: float64"
      ]
     },
     "execution_count": 11,
     "metadata": {},
     "output_type": "execute_result"
    }
   ],
   "source": [
    "exam.mean ()"
   ]
  },
  {
   "cell_type": "code",
   "execution_count": null,
   "id": "54932f52-7e82-4ce7-a19c-1102f98ee64b",
   "metadata": {},
   "outputs": [],
   "source": []
  }
 ],
 "metadata": {
  "kernelspec": {
   "display_name": "Python 3 (ipykernel)",
   "language": "python",
   "name": "python3"
  },
  "language_info": {
   "codemirror_mode": {
    "name": "ipython",
    "version": 3
   },
   "file_extension": ".py",
   "mimetype": "text/x-python",
   "name": "python",
   "nbconvert_exporter": "python",
   "pygments_lexer": "ipython3",
   "version": "3.9.10"
  }
 },
 "nbformat": 4,
 "nbformat_minor": 5
}
