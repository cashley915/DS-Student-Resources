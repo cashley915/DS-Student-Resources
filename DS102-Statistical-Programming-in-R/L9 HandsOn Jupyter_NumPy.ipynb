{
 "cells": [
  {
   "cell_type": "code",
   "execution_count": 5,
   "id": "db4090e2-d254-4297-9154-4fce7f56609d",
   "metadata": {},
   "outputs": [],
   "source": [
    "import numpy as np"
   ]
  },
  {
   "cell_type": "code",
   "execution_count": null,
   "id": "69e6fe6d-3e6b-4c64-a567-08656ef2cc5f",
   "metadata": {},
   "outputs": [],
   "source": []
  },
  {
   "cell_type": "code",
   "execution_count": null,
   "id": "6368f9ac-c262-4083-8edd-85a7b7a07cf3",
   "metadata": {},
   "outputs": [],
   "source": [
    "### Create array of favorite numbers & all 5 Functions"
   ]
  },
  {
   "cell_type": "code",
   "execution_count": 19,
   "id": "405ad0ed-ae86-4ef8-8f3a-325098e178de",
   "metadata": {},
   "outputs": [],
   "source": [
    "myFavorites = np.array ([5, 10, 4, 44, 8])"
   ]
  },
  {
   "cell_type": "code",
   "execution_count": null,
   "id": "6854a47c-b926-491b-9e13-d973deaba0ed",
   "metadata": {},
   "outputs": [],
   "source": []
  },
  {
   "cell_type": "code",
   "execution_count": 21,
   "id": "adb2799e-278f-4502-bc8c-6e7dfa32668f",
   "metadata": {},
   "outputs": [
    {
     "data": {
      "text/plain": [
       "44"
      ]
     },
     "execution_count": 21,
     "metadata": {},
     "output_type": "execute_result"
    }
   ],
   "source": [
    "myFavorites.max()"
   ]
  },
  {
   "cell_type": "code",
   "execution_count": 13,
   "id": "0bbc918e-80c5-48f9-b62c-3f64af9916ff",
   "metadata": {},
   "outputs": [
    {
     "data": {
      "text/plain": [
       "4"
      ]
     },
     "execution_count": 13,
     "metadata": {},
     "output_type": "execute_result"
    }
   ],
   "source": [
    "myFavorites.min()"
   ]
  },
  {
   "cell_type": "code",
   "execution_count": 14,
   "id": "432300a8-8220-4cbc-be73-d1cc23413bf6",
   "metadata": {},
   "outputs": [
    {
     "data": {
      "text/plain": [
       "14.2"
      ]
     },
     "execution_count": 14,
     "metadata": {},
     "output_type": "execute_result"
    }
   ],
   "source": [
    "myFavorites.mean()"
   ]
  },
  {
   "cell_type": "code",
   "execution_count": 15,
   "id": "cb7f8716-3df4-4123-be29-7e6683228152",
   "metadata": {},
   "outputs": [
    {
     "data": {
      "text/plain": [
       "15.051910177781425"
      ]
     },
     "execution_count": 15,
     "metadata": {},
     "output_type": "execute_result"
    }
   ],
   "source": [
    "myFavorites.std()"
   ]
  },
  {
   "cell_type": "code",
   "execution_count": 16,
   "id": "7c30ec7d-333e-43a9-a1a7-3e2e3d8a527b",
   "metadata": {},
   "outputs": [
    {
     "data": {
      "text/plain": [
       "71"
      ]
     },
     "execution_count": 16,
     "metadata": {},
     "output_type": "execute_result"
    }
   ],
   "source": [
    "myFavorites.sum()"
   ]
  },
  {
   "cell_type": "code",
   "execution_count": null,
   "id": "8a247600-f2da-49d3-ae14-42e8d1b16002",
   "metadata": {},
   "outputs": [],
   "source": []
  },
  {
   "cell_type": "code",
   "execution_count": null,
   "id": "447cc498-8307-47fd-9fd8-03d5b6241ce1",
   "metadata": {},
   "outputs": [],
   "source": [
    "### Create array with only Ones"
   ]
  },
  {
   "cell_type": "code",
   "execution_count": 17,
   "id": "c65c6d20-329a-44dd-85ad-56a6d8d618c9",
   "metadata": {},
   "outputs": [],
   "source": [
    "OneArrayToRuleThemAll = np.array ([1, 1, 1, 1, 1])"
   ]
  },
  {
   "cell_type": "code",
   "execution_count": null,
   "id": "2865e54a-cebf-4284-8a2f-c0607e878bc5",
   "metadata": {},
   "outputs": [],
   "source": []
  },
  {
   "cell_type": "code",
   "execution_count": 22,
   "id": "775bc505-adf0-48a3-9e2d-67cfce50e422",
   "metadata": {},
   "outputs": [
    {
     "data": {
      "text/plain": [
       "array([ 6, 11,  5, 45,  9])"
      ]
     },
     "execution_count": 22,
     "metadata": {},
     "output_type": "execute_result"
    }
   ],
   "source": [
    "OneArrayToRuleThemAll + myFavorites"
   ]
  },
  {
   "cell_type": "code",
   "execution_count": null,
   "id": "23de0650-0127-49d5-8635-dfd7b1f8737d",
   "metadata": {},
   "outputs": [],
   "source": []
  },
  {
   "cell_type": "code",
   "execution_count": 23,
   "id": "f639b890-bc34-422a-a080-72c406e5f2f1",
   "metadata": {},
   "outputs": [
    {
     "data": {
      "text/plain": [
       "array([ 20,  40,  16, 176,  32])"
      ]
     },
     "execution_count": 23,
     "metadata": {},
     "output_type": "execute_result"
    }
   ],
   "source": [
    "myFavorites * 4"
   ]
  },
  {
   "cell_type": "code",
   "execution_count": null,
   "id": "f3d90912-f420-4b94-b2b4-774f9a41a879",
   "metadata": {},
   "outputs": [],
   "source": []
  },
  {
   "cell_type": "code",
   "execution_count": 24,
   "id": "0d5fe3b3-caf3-4170-bfb8-5a74e6552750",
   "metadata": {},
   "outputs": [
    {
     "data": {
      "text/plain": [
       "4"
      ]
     },
     "execution_count": 24,
     "metadata": {},
     "output_type": "execute_result"
    }
   ],
   "source": [
    "myFavorites [2]"
   ]
  },
  {
   "cell_type": "code",
   "execution_count": null,
   "id": "1e1941ae-de93-42f9-9a83-263b9b8bb1a2",
   "metadata": {},
   "outputs": [],
   "source": []
  },
  {
   "cell_type": "code",
   "execution_count": null,
   "id": "01bdf7c0-0dc1-4d4b-b7c5-2319fe13034b",
   "metadata": {},
   "outputs": [],
   "source": [
    "### Create matrix"
   ]
  },
  {
   "cell_type": "code",
   "execution_count": 26,
   "id": "571dda6d-2b71-4651-91a9-841987d54212",
   "metadata": {},
   "outputs": [],
   "source": [
    "TheMatrixHasYou = np.array ([[3,9], \n",
    "                             [6,2]])"
   ]
  },
  {
   "cell_type": "code",
   "execution_count": null,
   "id": "c9338011-0f28-447d-b79b-91c455a571ad",
   "metadata": {},
   "outputs": [],
   "source": []
  },
  {
   "cell_type": "code",
   "execution_count": 27,
   "id": "49c2c009-0d56-4fe4-86b3-394129619aeb",
   "metadata": {},
   "outputs": [
    {
     "data": {
      "text/plain": [
       "3"
      ]
     },
     "execution_count": 27,
     "metadata": {},
     "output_type": "execute_result"
    }
   ],
   "source": [
    "TheMatrixHasYou [0,0]"
   ]
  },
  {
   "cell_type": "code",
   "execution_count": null,
   "id": "586f658f-6e71-471c-bdc6-3be046bcbe2d",
   "metadata": {},
   "outputs": [],
   "source": []
  },
  {
   "cell_type": "code",
   "execution_count": 28,
   "id": "9a45e617-d7ec-4a6f-80fc-846a9e3707e3",
   "metadata": {},
   "outputs": [
    {
     "data": {
      "text/plain": [
       "array([9, 6])"
      ]
     },
     "execution_count": 28,
     "metadata": {},
     "output_type": "execute_result"
    }
   ],
   "source": [
    "TheMatrixHasYou.max (axis=1)"
   ]
  },
  {
   "cell_type": "code",
   "execution_count": null,
   "id": "a021b4d7-01f9-4d7a-8398-9179dc22be5b",
   "metadata": {},
   "outputs": [],
   "source": []
  },
  {
   "cell_type": "code",
   "execution_count": 29,
   "id": "d3cb0f62-d1d0-4470-be13-4220290b7c92",
   "metadata": {},
   "outputs": [
    {
     "data": {
      "text/plain": [
       "array([[3, 9, 6, 2]])"
      ]
     },
     "execution_count": 29,
     "metadata": {},
     "output_type": "execute_result"
    }
   ],
   "source": [
    "TheMatrixHasYou.reshape (1,4)"
   ]
  },
  {
   "cell_type": "code",
   "execution_count": null,
   "id": "d106ad90-c853-450f-a275-f39eff1c1699",
   "metadata": {},
   "outputs": [],
   "source": []
  }
 ],
 "metadata": {
  "kernelspec": {
   "display_name": "Python 3 (ipykernel)",
   "language": "python",
   "name": "python3"
  },
  "language_info": {
   "codemirror_mode": {
    "name": "ipython",
    "version": 3
   },
   "file_extension": ".py",
   "mimetype": "text/x-python",
   "name": "python",
   "nbconvert_exporter": "python",
   "pygments_lexer": "ipython3",
   "version": "3.9.10"
  }
 },
 "nbformat": 4,
 "nbformat_minor": 5
}
