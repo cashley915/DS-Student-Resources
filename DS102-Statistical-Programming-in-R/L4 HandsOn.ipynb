{
 "cells": [
  {
   "cell_type": "code",
   "execution_count": 1,
   "id": "00690e3e-d910-4b35-93b7-be47c28629aa",
   "metadata": {},
   "outputs": [],
   "source": [
    "import pandas as pd"
   ]
  },
  {
   "cell_type": "code",
   "execution_count": 5,
   "id": "c5d44180-c5a7-4226-b276-a198c6c153e0",
   "metadata": {},
   "outputs": [],
   "source": [
    "powerboat = pd.read_csv ('/Users/clarkeashleigh/Downloads/L3P1.csv')"
   ]
  },
  {
   "cell_type": "code",
   "execution_count": 7,
   "id": "986d9a0e-8bc4-4bca-8e80-b64c8631e46e",
   "metadata": {},
   "outputs": [
    {
     "name": "stdout",
     "output_type": "stream",
     "text": [
      "Collecting matplotlib\n",
      "  Downloading matplotlib-3.5.1-cp39-cp39-macosx_10_9_x86_64.whl (7.3 MB)\n",
      "     |████████████████████████████████| 7.3 MB 1.4 MB/s            \n",
      "\u001b[?25hCollecting kiwisolver>=1.0.1\n",
      "  Downloading kiwisolver-1.4.2-cp39-cp39-macosx_10_9_x86_64.whl (65 kB)\n",
      "     |████████████████████████████████| 65 kB 2.0 MB/s            \n",
      "\u001b[?25hCollecting pillow>=6.2.0\n",
      "  Downloading Pillow-9.1.0-cp39-cp39-macosx_10_9_x86_64.whl (3.1 MB)\n",
      "     |████████████████████████████████| 3.1 MB 1.6 MB/s            \n",
      "\u001b[?25hCollecting cycler>=0.10\n",
      "  Downloading cycler-0.11.0-py3-none-any.whl (6.4 kB)\n",
      "Collecting fonttools>=4.22.0\n",
      "  Downloading fonttools-4.31.2-py3-none-any.whl (899 kB)\n",
      "     |████████████████████████████████| 899 kB 1.6 MB/s            \n",
      "\u001b[?25hRequirement already satisfied: packaging>=20.0 in /usr/local/Cellar/jupyterlab/3.2.9/libexec/lib/python3.9/site-packages (from matplotlib) (21.3)\n",
      "Requirement already satisfied: python-dateutil>=2.7 in /usr/local/Cellar/jupyterlab/3.2.9/libexec/lib/python3.9/site-packages (from matplotlib) (2.8.2)\n",
      "Requirement already satisfied: numpy>=1.17 in /usr/local/lib/python3.9/site-packages (from matplotlib) (1.22.3)\n",
      "Requirement already satisfied: pyparsing>=2.2.1 in /usr/local/Cellar/jupyterlab/3.2.9/libexec/lib/python3.9/site-packages (from matplotlib) (3.0.7)\n",
      "Requirement already satisfied: six>=1.5 in /usr/local/Cellar/six/1.16.0_2/lib/python3.9/site-packages (from python-dateutil>=2.7->matplotlib) (1.16.0)\n",
      "Installing collected packages: pillow, kiwisolver, fonttools, cycler, matplotlib\n",
      "Successfully installed cycler-0.11.0 fonttools-4.31.2 kiwisolver-1.4.2 matplotlib-3.5.1 pillow-9.1.0\n",
      "\u001b[33mWARNING: You are using pip version 21.3.1; however, version 22.0.4 is available.\n",
      "You should consider upgrading via the '/usr/local/Cellar/jupyterlab/3.2.9/libexec/bin/python3.9 -m pip install --upgrade pip' command.\u001b[0m\n",
      "Note: you may need to restart the kernel to use updated packages.\n"
     ]
    }
   ],
   "source": [
    "pip install matplotlib"
   ]
  },
  {
   "cell_type": "code",
   "execution_count": 8,
   "id": "30926520-8296-48db-bf2d-aad64221869c",
   "metadata": {},
   "outputs": [],
   "source": [
    "import matplotlib.mlab as mlab"
   ]
  },
  {
   "cell_type": "code",
   "execution_count": 9,
   "id": "6e5a5f98-1fa2-403b-9333-a7a430966486",
   "metadata": {},
   "outputs": [],
   "source": [
    "import matplotlib.pyplot as plt"
   ]
  },
  {
   "cell_type": "code",
   "execution_count": 12,
   "id": "165615f6-ca88-4729-b41e-1a14ffa2b463",
   "metadata": {},
   "outputs": [
    {
     "data": {
      "text/html": [
       "<div>\n",
       "<style scoped>\n",
       "    .dataframe tbody tr th:only-of-type {\n",
       "        vertical-align: middle;\n",
       "    }\n",
       "\n",
       "    .dataframe tbody tr th {\n",
       "        vertical-align: top;\n",
       "    }\n",
       "\n",
       "    .dataframe thead th {\n",
       "        text-align: right;\n",
       "    }\n",
       "</style>\n",
       "<table border=\"1\" class=\"dataframe\">\n",
       "  <thead>\n",
       "    <tr style=\"text-align: right;\">\n",
       "      <th></th>\n",
       "      <th>Power Boats (in 1000's)</th>\n",
       "    </tr>\n",
       "  </thead>\n",
       "  <tbody>\n",
       "    <tr>\n",
       "      <th>0</th>\n",
       "      <td>436</td>\n",
       "    </tr>\n",
       "    <tr>\n",
       "      <th>1</th>\n",
       "      <td>449</td>\n",
       "    </tr>\n",
       "    <tr>\n",
       "      <th>2</th>\n",
       "      <td>470</td>\n",
       "    </tr>\n",
       "    <tr>\n",
       "      <th>3</th>\n",
       "      <td>487</td>\n",
       "    </tr>\n",
       "    <tr>\n",
       "      <th>4</th>\n",
       "      <td>502</td>\n",
       "    </tr>\n",
       "  </tbody>\n",
       "</table>\n",
       "</div>"
      ],
      "text/plain": [
       "   Power Boats (in 1000's)\n",
       "0                      436\n",
       "1                      449\n",
       "2                      470\n",
       "3                      487\n",
       "4                      502"
      ]
     },
     "execution_count": 12,
     "metadata": {},
     "output_type": "execute_result"
    }
   ],
   "source": [
    "powerboat.head()"
   ]
  },
  {
   "cell_type": "code",
   "execution_count": null,
   "id": "75187433-fd9a-43c6-a605-dc4436602972",
   "metadata": {},
   "outputs": [],
   "source": [
    "# Histogram with 7 bars for Boats"
   ]
  },
  {
   "cell_type": "code",
   "execution_count": 13,
   "id": "6d7a63a9-e14f-447e-ad12-fa3c4f8e51e4",
   "metadata": {},
   "outputs": [],
   "source": [
    "num_bins = 7"
   ]
  },
  {
   "cell_type": "code",
   "execution_count": 17,
   "id": "2d436389-1f84-4c50-b56a-3ef7e5ee0a41",
   "metadata": {},
   "outputs": [
    {
     "data": {
      "text/plain": [
       "array([[<AxesSubplot:title={'center':\"Power Boats (in 1000's)\"}>]],\n",
       "      dtype=object)"
      ]
     },
     "execution_count": 17,
     "metadata": {},
     "output_type": "execute_result"
    },
    {
     "data": {
      "image/png": "[encoded data removed]",
      "text/plain": [
       "<Figure size 432x288 with 1 Axes>"
      ]
     },
     "metadata": {
      "needs_background": "light"
     },
     "output_type": "display_data"
    }
   ],
   "source": [
    "powerboat.hist(bins=7)"
   ]
  },
  {
   "cell_type": "code",
   "execution_count": null,
   "id": "41c0670c-007e-448b-92f1-f556814ad72a",
   "metadata": {},
   "outputs": [],
   "source": [
    "## Creating Bar Graph for Cars"
   ]
  },
  {
   "cell_type": "code",
   "execution_count": 18,
   "id": "4b327bf1-3833-4739-9912-a637d928a073",
   "metadata": {},
   "outputs": [],
   "source": [
    "powerboat2 = pd.read_csv ('/Users/clarkeashleigh/Downloads/L3P2.csv')"
   ]
  },
  {
   "cell_type": "code",
   "execution_count": 19,
   "id": "7ec1184d-00d2-4d41-9abe-880275f4833d",
   "metadata": {},
   "outputs": [
    {
     "data": {
      "text/plain": [
       "<AxesSubplot:xlabel='Cars'>"
      ]
     },
     "execution_count": 19,
     "metadata": {},
     "output_type": "execute_result"
    },
    {
     "data": {
      "image/png": "[encoded data removed]",
      "text/plain": [
       "<Figure size 432x288 with 1 Axes>"
      ]
     },
     "metadata": {
      "needs_background": "light"
     },
     "output_type": "display_data"
    }
   ],
   "source": [
    "powerboat2.value_counts().plot (kind = 'bar')"
   ]
  },
  {
   "cell_type": "code",
   "execution_count": null,
   "id": "9ea7b187-9260-4fca-ab8c-b480a5329e4e",
   "metadata": {},
   "outputs": [],
   "source": [
    "### Stacked Bar Chart for Cars"
   ]
  },
  {
   "cell_type": "code",
   "execution_count": 20,
   "id": "37e2fe02-f624-46d6-82b7-a9eaedeb2815",
   "metadata": {},
   "outputs": [],
   "source": [
    "cars = pd.read_csv ('/Users/clarkeashleigh/Downloads/L3Part3.csv')"
   ]
  },
  {
   "cell_type": "code",
   "execution_count": 22,
   "id": "d4c939a2-545a-41c8-b959-a14c72b45eb1",
   "metadata": {},
   "outputs": [],
   "source": [
    "cars_df = pd.crosstab (cars ['Car'], cars ['Location'])"
   ]
  },
  {
   "cell_type": "code",
   "execution_count": 23,
   "id": "27e540ac-b91b-4aea-8de6-94657a40d9e2",
   "metadata": {},
   "outputs": [
    {
     "data": {
      "text/plain": [
       "<AxesSubplot:xlabel='Car'>"
      ]
     },
     "execution_count": 23,
     "metadata": {},
     "output_type": "execute_result"
    },
    {
     "data": {
      "image/png": "[encoded data removed]",
      "text/plain": [
       "<Figure size 432x288 with 1 Axes>"
      ]
     },
     "metadata": {
      "needs_background": "light"
     },
     "output_type": "display_data"
    }
   ],
   "source": [
    "cars_df.plot.bar (stacked=True)"
   ]
  },
  {
   "cell_type": "code",
   "execution_count": null,
   "id": "6084ae56-6469-4307-854d-595a5121f259",
   "metadata": {},
   "outputs": [],
   "source": [
    "## Scatterplot about Crocs"
   ]
  },
  {
   "cell_type": "code",
   "execution_count": 24,
   "id": "155212dd-11dc-45d0-a8ac-676f967e7e1d",
   "metadata": {},
   "outputs": [],
   "source": [
    "crocs = pd.read_csv ('/Users/clarkeashleigh/Downloads/crocodiles.csv')"
   ]
  },
  {
   "cell_type": "code",
   "execution_count": 25,
   "id": "194e81fb-51cb-45e3-8846-f2bef05a4d76",
   "metadata": {},
   "outputs": [
    {
     "data": {
      "text/plain": [
       "Text(0, 0.5, 'Body Length')"
      ]
     },
     "execution_count": 25,
     "metadata": {},
     "output_type": "execute_result"
    },
    {
     "data": {
      "image/png": "[encoded data removed]",
      "text/plain": [
       "<Figure size 432x288 with 1 Axes>"
      ]
     },
     "metadata": {
      "needs_background": "light"
     },
     "output_type": "display_data"
    }
   ],
   "source": [
    "crocplot = crocs.plot.scatter (x= 'HeadLength', y= 'BodyLength')\n",
    "crocplot.set_title (\"Lengths of Estuarine Crocodiles\")\n",
    "crocplot.set_xlabel (\"Head Length\")\n",
    "crocplot.set_ylabel (\"Body Length\") "
   ]
  },
  {
   "cell_type": "code",
   "execution_count": null,
   "id": "5b4c5cb5-35de-4c3a-a21c-86939a141b2b",
   "metadata": {},
   "outputs": [],
   "source": [
    "# Line Chart tracking Heart Attacks "
   ]
  },
  {
   "cell_type": "code",
   "execution_count": 26,
   "id": "91c005bb-d04a-40d3-a6de-475984ac0995",
   "metadata": {},
   "outputs": [],
   "source": [
    "heartAttack = pd.read_csv ('/Users/clarkeashleigh/Downloads/L6handson.csv')"
   ]
  },
  {
   "cell_type": "code",
   "execution_count": 46,
   "id": "3012b9e6-b546-4105-b96c-057011cc2063",
   "metadata": {},
   "outputs": [
    {
     "data": {
      "text/plain": [
       "Text(0.5, 1.0, 'Heart Attacks in 2003')"
      ]
     },
     "execution_count": 46,
     "metadata": {},
     "output_type": "execute_result"
    },
    {
     "data": {
      "image/png": "[encoded data removed]",
      "text/plain": [
       "<Figure size 432x288 with 1 Axes>"
      ]
     },
     "metadata": {
      "needs_background": "light"
     },
     "output_type": "display_data"
    }
   ],
   "source": [
    "plt.plot (heartAttack ['Month'], heartAttack ['Heart Attacks'])\n",
    "plt.xlabel('Month')\n",
    "plt.ylabel('Number of Heart Attacks')\n",
    "plt.title(\"Heart Attacks in 2003\")"
   ]
  },
  {
   "cell_type": "code",
   "execution_count": null,
   "id": "cded29e2-5968-4ec3-9032-f2a0f46b61d0",
   "metadata": {},
   "outputs": [],
   "source": [
    "# The graph works perfectly when graphing data, but I'm finding that I can only put in one piece of data for the x-axis. \n",
    "## Ideally, I would love to add the Month + Day into the x-axis, to make the chart more specific. "
   ]
  }
 ],
 "metadata": {
  "kernelspec": {
   "display_name": "Python 3 (ipykernel)",
   "language": "python",
   "name": "python3"
  },
  "language_info": {
   "codemirror_mode": {
    "name": "ipython",
    "version": 3
   },
   "file_extension": ".py",
   "mimetype": "text/x-python",
   "name": "python",
   "nbconvert_exporter": "python",
   "pygments_lexer": "ipython3",
   "version": "3.9.10"
  }
 },
 "nbformat": 4,
 "nbformat_minor": 5
}
