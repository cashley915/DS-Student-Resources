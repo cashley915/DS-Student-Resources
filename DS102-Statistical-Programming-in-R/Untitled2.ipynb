{
 "cells": [
  {
   "cell_type": "code",
   "execution_count": 1,
   "id": "b6c44ba1-c047-4178-bcef-8c396d02f24f",
   "metadata": {},
   "outputs": [],
   "source": [
    "library (\"corpcor\")\n",
    "library(\"GPArotation\")\n",
    "library(\"psych\")\n",
    "library(\"IDPmisc\")\n"
   ]
  },
  {
   "cell_type": "code",
   "execution_count": null,
   "id": "7fcbf374-4afd-40c5-811b-2f7bfa01741b",
   "metadata": {},
   "outputs": [],
   "source": []
  }
 ],
 "metadata": {
  "kernelspec": {
   "display_name": "R",
   "language": "R",
   "name": "ir"
  },
  "language_info": {
   "codemirror_mode": "r",
   "file_extension": ".r",
   "mimetype": "text/x-r-source",
   "name": "R",
   "pygments_lexer": "r",
   "version": "4.1.2"
  }
 },
 "nbformat": 4,
 "nbformat_minor": 5
}
